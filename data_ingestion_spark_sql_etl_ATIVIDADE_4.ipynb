{
  "nbformat": 4,
  "nbformat_minor": 0,
  "metadata": {
    "colab": {
      "provenance": [],
      "include_colab_link": true
    },
    "kernelspec": {
      "name": "python3",
      "display_name": "Python 3"
    },
    "language_info": {
      "name": "python"
    }
  },
  "cells": [
    {
      "cell_type": "markdown",
      "metadata": {
        "id": "view-in-github",
        "colab_type": "text"
      },
      "source": [
        "<a href=\"https://colab.research.google.com/github/amandamayra/Ingestao-de-dados/blob/main/data_ingestion_spark_sql_etl_ATIVIDADE_4.ipynb\" target=\"_parent\"><img src=\"https://colab.research.google.com/assets/colab-badge.svg\" alt=\"Open In Colab\"/></a>"
      ]
    },
    {
      "cell_type": "code",
      "execution_count": null,
      "metadata": {
        "id": "6RrgmdMlz7Yu"
      },
      "outputs": [],
      "source": [
        "# # Instalar dependências\n",
        "# !pip install \\\n",
        "#     pyspark \\\n",
        "#     dbt-core \\\n",
        "#     dbt-postgres\n",
        "\n",
        "# python -m pip install \\\n",
        "#   dbt-core \\\n",
        "#   dbt-postgres \\\n",
        "#   dbt-redshift \\\n",
        "#   dbt-snowflake \\\n",
        "#   dbt-bigquery \\\n",
        "# ----------------------- #\n",
        "import subprocess\n",
        "import sys\n",
        "\n",
        "def install_or_update(package):\n",
        "    # Atualiza o instalador de pacotes\n",
        "    subprocess.check_call([sys.executable, \"-m\", \"pip\", \"install\", \"pip\"])\n",
        "    # Tenta importar o pacote. Se falhar, instala-o.\n",
        "    try:\n",
        "        __import__(package)\n",
        "        # Se o pacote já estiver instalado, tenta atualizá-lo\n",
        "        subprocess.check_call([sys.executable, \"-m\", \"pip\", \"install\", \"--upgrade\", package])\n",
        "    except ImportError:\n",
        "        # Se o pacote não estiver instalado, instala-o\n",
        "        subprocess.check_call([sys.executable, \"-m\", \"pip\", \"install\", package])\n",
        "\n",
        "# Lista de pacotes que você deseja verificar/instalar/atualizar\n",
        "required_packages = ['cchardet', 'pandas', 'ydata-profiling', 'pyspark']\n",
        "\n",
        "for package in required_packages:\n",
        "    install_or_update(package)\n"
      ]
    },
    {
      "cell_type": "code",
      "source": [
        "# Importar bibliotecas necessárias\n",
        "import os\n",
        "# import dbt.main as dbt\n",
        "from google.colab import drive\n",
        "from pyspark import SparkContext as SC\n",
        "from pyspark.sql import SparkSession as SS, DataFrame as DF\n",
        "from pyspark.sql.functions import col"
      ],
      "metadata": {
        "id": "KV_f2TccyHs5"
      },
      "execution_count": null,
      "outputs": []
    },
    {
      "cell_type": "code",
      "source": [
        "# Montar o Google Drive\n",
        "drive.mount('/content/drive/', force_remount=True)\n",
        "# Definir diretório de trabalho\n",
        "os.chdir('/content/drive/MyDrive/Colab Notebooks/')\n",
        "\n",
        "# Configurar o SparkSession\n",
        "spark = SS.builder \\\n",
        "    .master('local') \\\n",
        "    .appName(\"AtividadeETL_4\") \\\n",
        "    .config(\"spark.driver.memory\", \"6g\") \\\n",
        "    .config(\"spark.logConf\", True) \\\n",
        "    .getOrCreate()\n",
        "SC.setLogLevel(spark, \"ERROR\")\n",
        "\n",
        "# Definir caminhos (ajuste conforme sua estrutura de pastas no Google Drive)\n",
        "# full_path = \"/content/drive/MyDrive/Colab Notebooks/AtividadeETL-4\"\n",
        "base_path = \"./AtividadeETL-4/data\"\n",
        "raw_path = f\"{base_path}/raw\"\n",
        "trusted_path = f\"{base_path}/trusted\"\n",
        "delivery_path = f\"{base_path}/delivery\""
      ],
      "metadata": {
        "colab": {
          "base_uri": "https://localhost:8080/"
        },
        "id": "tf0G4TbuyRsK",
        "outputId": "ba4dc089-9af5-4793-f8ee-3791dda1f519"
      },
      "execution_count": null,
      "outputs": [
        {
          "output_type": "stream",
          "name": "stdout",
          "text": [
            "Mounted at /content/drive/\n"
          ]
        }
      ]
    },
    {
      "cell_type": "code",
      "source": [
        "import cchardet\n",
        "import pandas as pd\n",
        "\n",
        "# Função para detectar o encoding do arquivo\n",
        "def detect_encoding_cchardet(file_path):\n",
        "    with open(file_path, 'rb') as file:\n",
        "        result = cchardet.detect(file.read())\n",
        "    return result\n",
        "\n",
        "path = f'{base_path}/Bancos/EnquadramentoInicia_v2.tsv'\n",
        "\n",
        "result = detect_encoding_cchardet(path)\n",
        "print(f\"The most likely encoding is: {result['encoding']}, with confidence {(result['confidence']*100) // 1} %.\", '\\n')\n",
        "\n",
        "# Lê o arquivo usando o encoding detectado\n",
        "df = pd.read_csv(path, sep='\\t', encoding=result['encoding'])\n",
        "\n",
        "# Exibe as primeiras linhas do DataFrame com a nova codificação de caracteres\n",
        "print(df.head())\n"
      ],
      "metadata": {
        "colab": {
          "base_uri": "https://localhost:8080/"
        },
        "collapsed": true,
        "id": "JCoeWFz-jlqr",
        "outputId": "c036ff9d-1220-40ec-f6e1-69ac5feaab98"
      },
      "execution_count": null,
      "outputs": [
        {
          "output_type": "stream",
          "name": "stdout",
          "text": [
            "The most likely encoding is: UTF-8, with confidence 99.0 %. \n",
            "\n",
            "  Segmento      CNPJ                                  Nome\n",
            "0       S1         0          BANCO DO BRASIL - PRUDENCIAL\n",
            "1       S1  60746948                 BRADESCO - PRUDENCIAL\n",
            "2       S1  30306294              BTG PACTUAL - PRUDENCIAL\n",
            "3       S1    360305  CAIXA ECONOMICA FEDERAL - PRUDENCIAL\n",
            "4       S1  60872504                     ITAU - PRUDENCIAL\n"
          ]
        }
      ]
    },
    {
      "cell_type": "code",
      "source": [
        "enc_character = 'cp1252' # utf8\n",
        "bancos_file = f'{base_path}/Bancos/EnquadramentoInicia_v2.tsv'\n",
        "empregados_files = [f'{base_path}/Empregados/glassdoor_consolidado_join_{suffix}_v2.csv' for suffix in ['match_less', 'match']]\n",
        "reclamacoes_folder = f'{base_path}/Reclamações'\n",
        "\n",
        "def read_raw_data(file_path, separator):\n",
        "    '''\n",
        "    Função para ler arquivos de dados CSV,\n",
        "    TSV de acordo com os separadores.\n",
        "    '''\n",
        "    return spark.read.csv( \\\n",
        "        file_path, \\\n",
        "        sep=separator, \\\n",
        "        header=True, \\\n",
        "        encoding=enc_character \\\n",
        "        )\n",
        "\n",
        "def treat_data(df):\n",
        "    '''\n",
        "    Função para tratar dados.\n",
        "    ### # Remove duplicatas e valores nulos #\n",
        "    '''\n",
        "    df = df.dropDuplicates().na.drop()\n",
        "    return df\n",
        "\n",
        "# Leitura e tratamento dos dados dos Bancos\n",
        "df_bancos = read_tsv(bancos_file)\n",
        "df_bancos = treat_data(df_bancos)\n",
        "df_bancos.createOrReplaceTempView(\"bancos_view\")\n",
        "spark.sql(\"SELECT * FROM bancos_view LIMIT 50\").show(truncate=False)\n",
        "\n",
        "# Leitura e tratamento dos dados de Empregados\n",
        "df_empregados = read_csv(empregados_files)\n",
        "df_empregados = treat_data(df_empregados)\n",
        "\n",
        "# Leitura e tratamento dos dados de Reclamações\n",
        "reclamacoes_files = [os.path.join(reclamacoes_folder, f) for f in os.listdir(reclamacoes_folder) if f.endswith('.csv')]\n",
        "df_reclamacoes = read_csv(reclamacoes_files)\n",
        "df_reclamacoes = treat_data(df_reclamacoes)\n",
        "\n",
        "# Exibição de informações sobre os DataFrames\n",
        "print(\"Informações sobre o DataFrame de Bancos:\")\n",
        "df_bancos.show(truncate=False)\n",
        "df_bancos.printSchema()\n",
        "\n",
        "print(\"\\nInformações sobre o DataFrame de Empregados:\")\n",
        "df_empregados.show(truncate=False)\n",
        "df_empregados.printSchema()\n",
        "\n",
        "print(\"\\nInformações sobre o DataFrame de Reclamações:\")\n",
        "df_reclamacoes.show(truncate=False)\n",
        "df_reclamacoes.printSchema()\n",
        "\n",
        "# Merge dos DataFrames\n",
        "# Assumindo que há colunas comuns para fazer o merge. Ajuste conforme necessário.\n",
        "merged_df = df_bancos.join(df_empregados, df_bancos[\"Nome\"] == df_empregados[\"employer_name\"], \"left\")\n",
        "merged_df = merged_df.join(df_reclamacoes, merged_df[\"CNPJ\"] == df_reclamacoes[\"CNPJ\"], \"left\")\n",
        "\n",
        "# Tratamento final do DataFrame mesclado\n",
        "merged_df = treat_data(merged_df)\n",
        "\n",
        "# Exibição de informações sobre o DataFrame final\n",
        "print(\"\\nInformações sobre o DataFrame Mesclado Final:\")\n",
        "merged_df.show(truncate=False)\n",
        "merged_df.printSchema()\n",
        "\n",
        "# Salvando o resultado final\n",
        "merged_df.write.csv('resultado_merge_final.csv', header=True, mode='overwrite')\n",
        "print(\"\\nArquivo 'resultado_merge_final.csv' salvo com sucesso.\")\n"
      ],
      "metadata": {
        "colab": {
          "base_uri": "https://localhost:8080/",
          "height": 1000
        },
        "id": "Xu8Jhol-wNxp",
        "outputId": "f75fbc57-5149-4e4a-d6a2-7f85e879037b"
      },
      "execution_count": null,
      "outputs": [
        {
          "output_type": "stream",
          "name": "stdout",
          "text": [
            "+--------+--------+---------------------------------------------------------------------------------------------------------+\n",
            "|Segmento|CNPJ    |Nome                                                                                                     |\n",
            "+--------+--------+---------------------------------------------------------------------------------------------------------+\n",
            "|S4      |16657210|CHLOE DTVM LTDA.                                                                                         |\n",
            "|S5      |66788142|COOPERATIVA DE CREDITO DE LIVRE ADMISSï¿½O DE Cï¿½NDIDO MOTA E REGIï¿½O.                                 |\n",
            "|S5      |1601342 |COOPERATIVA DE CRï¿½DITO DE LIVRE ADMISSï¿½O DE MICRO REGIï¿½ES DE GOIï¿½NIA E ADJACENTES LTDA.          |\n",
            "|S5      |5745533 |COOPERATIVA DE CRï¿½DITO RURAL COM INTERAï¿½ï¿½O SOLIDï¿½RIA DE ITATIBA DO SUL - CRESOL ITATIBA DO SUL   |\n",
            "|S5      |4223451 |CREDILON SCM REG. LONDRINA LTD                                                                           |\n",
            "|S4      |4866275 |BANCO STANDARD INV S.A. - PRUDENCIAL                                                                     |\n",
            "|S4      |411939  |FINAMAX S.A. CFI                                                                                         |\n",
            "|S4      |21040668|GLOBAL EXCHANGE BR SOC. CC LTDA                                                                          |\n",
            "|S4      |59615005|PATAï¿½ï¿½O DTVM LTDA.                                                                                   |\n",
            "|S4      |61739629|SPINELLI S.A. CVMC                                                                                       |\n",
            "|S4      |32206435|SUL AMERICA INVEST DTVM S.A.                                                                             |\n",
            "|S5      |71441406|COOPERATIVA DE CRï¿½DITO DE LIVRE ADMISSï¿½O DE PEDRO LEOPOLDO LTDA - SICOOB CREDIPEL                    |\n",
            "|S5      |3356447 |COOPERATIVA DE CREDITO RURAL COM INTERACAO SOLIDARIA DE CANDOI - CRESOL CANDOI                           |\n",
            "|S5      |8624548 |COOPERATIVA DE CRï¿½DITO RURAL COM INTERAï¿½ï¿½O SOLIDï¿½RIA DE FERVEDOURO - CRESOL FERVEDOURO           |\n",
            "|S5      |4232022 |COOPERATIVA DE CREDITO RURAL COM INTERACAO SOLIDARIA DE IBEMA - CRESOL IBEMA                             |\n",
            "|S4      |13839639|MELHOR CC LTDA.                                                                                          |\n",
            "|S5      |80959638|COOPERATIVA DE CRï¿½DITO DE LIVRE ADMISSï¿½O DE ASSOCIADOS DO MEIO OESTE CATARINENSE - SICOOB CREDIMOC SC|\n",
            "|S5      |2833202 |COOPERATIVA DE CRï¿½DITO DOS Mï¿½DICOS E DEMAIS PROFISSIONAIS DA SAï¿½DE DE VITï¿½RIA DA CONQUISTA       |\n",
            "|S5      |9463721 |COOPERATIVA DE CRï¿½DITO RURAL COM INTERAï¿½ï¿½O SOLIDï¿½RIA DE JACINTO MACHADO - CRESOL JACINTO MACHADO |\n",
            "|S5      |8253539 |COOPERATIVA DE CRï¿½DITO RURAL DE Sï¿½O MIGUEL DO OESTE - SULCREDI/Sï¿½O MIGUEL                          |\n",
            "+--------+--------+---------------------------------------------------------------------------------------------------------+\n",
            "only showing top 20 rows\n",
            "\n",
            "Informações sobre o DataFrame de Bancos:\n",
            "+--------+--------+---------------------------------------------------------------------------------------------------------+\n",
            "|Segmento|CNPJ    |Nome                                                                                                     |\n",
            "+--------+--------+---------------------------------------------------------------------------------------------------------+\n",
            "|S4      |16657210|CHLOE DTVM LTDA.                                                                                         |\n",
            "|S5      |66788142|COOPERATIVA DE CREDITO DE LIVRE ADMISSï¿½O DE Cï¿½NDIDO MOTA E REGIï¿½O.                                 |\n",
            "|S5      |1601342 |COOPERATIVA DE CRï¿½DITO DE LIVRE ADMISSï¿½O DE MICRO REGIï¿½ES DE GOIï¿½NIA E ADJACENTES LTDA.          |\n",
            "|S5      |5745533 |COOPERATIVA DE CRï¿½DITO RURAL COM INTERAï¿½ï¿½O SOLIDï¿½RIA DE ITATIBA DO SUL - CRESOL ITATIBA DO SUL   |\n",
            "|S5      |4223451 |CREDILON SCM REG. LONDRINA LTD                                                                           |\n",
            "|S4      |4866275 |BANCO STANDARD INV S.A. - PRUDENCIAL                                                                     |\n",
            "|S4      |411939  |FINAMAX S.A. CFI                                                                                         |\n",
            "|S4      |21040668|GLOBAL EXCHANGE BR SOC. CC LTDA                                                                          |\n",
            "|S4      |59615005|PATAï¿½ï¿½O DTVM LTDA.                                                                                   |\n",
            "|S4      |61739629|SPINELLI S.A. CVMC                                                                                       |\n",
            "|S4      |32206435|SUL AMERICA INVEST DTVM S.A.                                                                             |\n",
            "|S5      |71441406|COOPERATIVA DE CRï¿½DITO DE LIVRE ADMISSï¿½O DE PEDRO LEOPOLDO LTDA - SICOOB CREDIPEL                    |\n",
            "|S5      |3356447 |COOPERATIVA DE CREDITO RURAL COM INTERACAO SOLIDARIA DE CANDOI - CRESOL CANDOI                           |\n",
            "|S5      |8624548 |COOPERATIVA DE CRï¿½DITO RURAL COM INTERAï¿½ï¿½O SOLIDï¿½RIA DE FERVEDOURO - CRESOL FERVEDOURO           |\n",
            "|S5      |4232022 |COOPERATIVA DE CREDITO RURAL COM INTERACAO SOLIDARIA DE IBEMA - CRESOL IBEMA                             |\n",
            "|S4      |13839639|MELHOR CC LTDA.                                                                                          |\n",
            "|S5      |80959638|COOPERATIVA DE CRï¿½DITO DE LIVRE ADMISSï¿½O DE ASSOCIADOS DO MEIO OESTE CATARINENSE - SICOOB CREDIMOC SC|\n",
            "|S5      |2833202 |COOPERATIVA DE CRï¿½DITO DOS Mï¿½DICOS E DEMAIS PROFISSIONAIS DA SAï¿½DE DE VITï¿½RIA DA CONQUISTA       |\n",
            "|S5      |9463721 |COOPERATIVA DE CRï¿½DITO RURAL COM INTERAï¿½ï¿½O SOLIDï¿½RIA DE JACINTO MACHADO - CRESOL JACINTO MACHADO |\n",
            "|S5      |8253539 |COOPERATIVA DE CRï¿½DITO RURAL DE Sï¿½O MIGUEL DO OESTE - SULCREDI/Sï¿½O MIGUEL                          |\n",
            "+--------+--------+---------------------------------------------------------------------------------------------------------+\n",
            "only showing top 20 rows\n",
            "\n",
            "root\n",
            " |-- Segmento: string (nullable = true)\n",
            " |-- CNPJ: string (nullable = true)\n",
            " |-- Nome: string (nullable = true)\n",
            "\n",
            "\n",
            "Informações sobre o DataFrame de Empregados:\n",
            "+---------------------------------------------------------------------------------------------------------------------------------------------------------------------------------------------------------------------------------------------------------------------------------------------------------------------------------------------------------------------------------------------------------------+\n",
            "|employer_name|reviews_count|culture_count|salaries_count|benefits_count|employer-website|employer-headquarters|employer-founded|employer-industry|employer-revenue|url|Geral|Cultura e valores|Diversidade e inclusÃ£o|Qualidade de vida|Alta lideranÃ§a|RemuneraÃ§Ã£o e benefÃ­cios|Oportunidades de carreira|Recomendam para outras pessoas(%)|Perspectiva positiva da empresa(%)|Segmento|Nome|match_percent|\n",
            "+---------------------------------------------------------------------------------------------------------------------------------------------------------------------------------------------------------------------------------------------------------------------------------------------------------------------------------------------------------------------------------------------------------------+\n",
            "|Itau|22000|7500|38000|7500|http://www.itau.com.br|SÃ£o Paulo                                                                                                                                                                                                                                                                                                                                                   |\n",
            "|ING|4500|1500|7600|1100|http://www.ing.com/en.htm|AmsterdÃ£o                                                                                                                                                                                                                                                                                                                                                   |\n",
            "|Banco Bradesco|11000|3300|19000|3200|http://www.bancobradesco.com.br|Osasco                                                                                                                                                                                                                                                                                                                                    |\n",
            "|Caixa EconÃ´mica Federal|4000|717|7300|857|http://www.caixa.gov.br|BRASILIA                                                                                                                                                                                                                                                                                                                                    |\n",
            "|Banco Fibra|119|41|172|37|http://www.bancofibra.com.br|SÃ£o Paulo                                                                                                                                                                                                                                                                                                                                              |\n",
            "|Banco Original|651|286|1100|261|http://www.original.com.br|SÃ£o Paulo                                                                                                                                                                                                                                                                                                                                          |\n",
            "|Credit Suisse|11000|3400|22000|2900|http://www.credit-suisse.com|Zurique                                                                                                                                                                                                                                                                                                                                       |\n",
            "|Apex Group|432|271|561|74|http://www.apexgroup.com|Hamilton                                                                                                                                                                                                                                                                                                                                                    |\n",
            "|J.P. Morgan|859|322|1600|227|http://www.jpmorgan.com|New York                                                                                                                                                                                                                                                                                                                                                  |\n",
            "|BTG Pactual|1600|683|2800|635|http://www.btgpactual.com|SÃ£o Paulo                                                                                                                                                                                                                                                                                                                                             |\n",
            "|JPMorgan Chase & Co|22000|8800|65000|9600|https://www.jpmorganchase.com/|New York                                                                                                                                                                                                                                                                                                                              |\n",
            "|SociÃ©tÃ© GÃ©nÃ©rale|11000|3400|16000|2800|http://www.societegenerale.com|Paris                                                                                                                                                                                                                                                                                                                                |\n",
            "|Banrisul|1000|155|1700|127|http://www.banrisul.com.br|Porto Alegre                                                                                                                                                                                                                                                                                                                                             |\n",
            "|Merrill Lynch|5600|1200|9900|1200|http://www.ml.com|New York                                                                                                                                                                                                                                                                                                                                                   |\n",
            "|Sumitomo Mitsui Financial Group|903|246|1300|290|http://www.smfg.co.jp|TÃ³quio                                                                                                                                                                                                                                                                                                                                 |\n",
            "|Deutsche Bank|12000|3200|21000|3100|https://careers.db.com/|Frankfurt am Main                                                                                                                                                                                                                                                                                                                                  |\n",
            "|Banco BMG|445|232|704|277|http://www.bancobmg.com.br|SÃ£o Paulo                                                                                                                                                                                                                                                                                                                                                |\n",
            "|Banco Alfa|175|74|271|105|http://www.alfanet.com.br|SÃ£o Paulo                                                                                                                                                                                                                                                                                                                                                 |\n",
            "|China Construction Bank|871|194|720|240|http://www.ccb.com|Pequim                                                                                                                                                                                                                                                                                                                                              |\n",
            "|Goldman Sachs|17000|4400|36000|4100|http://www.goldmansachs.com|New York                                                                                                                                                                                                                                                                                                                                       |\n",
            "+---------------------------------------------------------------------------------------------------------------------------------------------------------------------------------------------------------------------------------------------------------------------------------------------------------------------------------------------------------------------------------------------------------------+\n",
            "only showing top 20 rows\n",
            "\n",
            "root\n",
            " |-- employer_name|reviews_count|culture_count|salaries_count|benefits_count|employer-website|employer-headquarters|employer-founded|employer-industry|employer-revenue|url|Geral|Cultura e valores|Diversidade e inclusÃ£o|Qualidade de vida|Alta lideranÃ§a|RemuneraÃ§Ã£o e benefÃ­cios|Oportunidades de carreira|Recomendam para outras pessoas(%)|Perspectiva positiva da empresa(%)|Segmento|Nome|match_percent: string (nullable = true)\n",
            "\n",
            "\n",
            "Informações sobre o DataFrame de Reclamações:\n",
            "+-------------------------------------------------------------------------------------------------------------------------------------------------------------------------------------------------------------------------------------------------------------------------------------------------------------------------------------------+\n",
            "|Ano;Trimestre;Categoria;Tipo;CNPJ IF;Instituição financeira;Índice;Quantidade de reclamações reguladas procedentes;Quantidade de reclamações reguladas - outras;Quantidade de reclamações não reguladas;Quantidade total de reclamações;Quantidade total de clientes – CCS e SCR;Quantidade de clientes – CCS;Quantidade de clientes – SCR;|\n",
            "+-------------------------------------------------------------------------------------------------------------------------------------------------------------------------------------------------------------------------------------------------------------------------------------------------------------------------------------------+\n",
            "|2021;2º;Demais bancos e financeiras;Banco/financeira;07237373;BANCO DO NORDESTE DO BRASIL S.A.; ;27;23;30;80;8679633;8095479;3223472;                                                                                                                                                                                                      |\n",
            "|2021;3º;Demais bancos e financeiras;Conglomerado; ;LECCA (conglomerado); ;3;4;2;9;27668;330;27340;                                                                                                                                                                                                                                         |\n",
            "|2021;3º;Top 10 - Bancos e Financeiras;Conglomerado; ;VOTORANTIM (conglomerado);13                                                                                                                                                                                                                                                          |\n",
            "|2021;2º;Demais bancos e financeiras;Conglomerado; ;BRB (conglomerado);103                                                                                                                                                                                                                                                                  |\n",
            "|2021;3º;Demais bancos e financeiras;Banco/financeira;03532415;BANCO ABN AMRO S.A.; ;0;0;1;1;41;41;1;                                                                                                                                                                                                                                       |\n",
            "|2021;3º;Demais bancos e financeiras;Conglomerado; ;FATOR (conglomerado); ;0;0;1;1;13744;13740;19;                                                                                                                                                                                                                                          |\n",
            "|2021;2º;Demais bancos e financeiras;Conglomerado; ;BOFA MERRILL LYNCH (conglomerado); ;0;1;0;1;4484;4477;103;                                                                                                                                                                                                                              |\n",
            "|2021;3º;Demais bancos e financeiras;Banco/financeira;27214112;AL5 S.A. CRÉDITO                                                                                                                                                                                                                                                             |\n",
            "|2021;1º;Grupo Secundário;Conglomerado; ;JP MORGAN CHASE (conglomerado); ;0;1;0;1;3931;3914;129;                                                                                                                                                                                                                                            |\n",
            "|2021;2º;Demais bancos e financeiras;Banco/financeira;15581638;FACTA FINANCEIRA S.A. - CRÉDITO FINANCIAMENTO E INVESTIMENTO;555                                                                                                                                                                                                             |\n",
            "|2021;2º;Demais bancos e financeiras;Conglomerado; ;GENIAL (conglomerado); ;16;4;3;23;106974;106969;39;                                                                                                                                                                                                                                     |\n",
            "|2021;3º;Demais bancos e financeiras;Banco/financeira;04379829;NEGRESCO S.A. - CREDITO                                                                                                                                                                                                                                                      |\n",
            "|2021;1º;Grupo Secundário;Conglomerado; ;ABC-BRASIL (conglomerado); ;2;3;4;9;26230;24698;3810;                                                                                                                                                                                                                                              |\n",
            "|2021;3º;Demais bancos e financeiras;Banco/financeira;23862762;WILL FINANCEIRA S.A. CRÉDITO                                                                                                                                                                                                                                                 |\n",
            "|2021;2º;Demais bancos e financeiras;Conglomerado; ;BNP PARIBAS (conglomerado);192                                                                                                                                                                                                                                                          |\n",
            "|2021;3º;Demais bancos e financeiras;Banco/financeira;07747410;M PAGAMENTOS S.A. - CRÉDITO FINANCIAMENTO E INVESTIMENTO; ;3;6;5;14;626141; ;626141;                                                                                                                                                                                         |\n",
            "|2021;3º;Demais bancos e financeiras;Conglomerado; ;AGIBANK (conglomerado);82                                                                                                                                                                                                                                                               |\n",
            "|2021;3º;Demais bancos e financeiras;Banco/financeira;33042151;BANCO DE LA NACION ARGENTINA; ;0;1;0;1;256;244;21;                                                                                                                                                                                                                           |\n",
            "|2021;2º;Demais bancos e financeiras;Conglomerado; ;RODOBENS (conglomerado); ;1;1;3;5;14012;1661;12750;                                                                                                                                                                                                                                     |\n",
            "|2021;2º;Demais bancos e financeiras;Banco/financeira;78632767;BANCO OURINVEST S.A.; ;0;2;0;2;44303;41822;2504;                                                                                                                                                                                                                             |\n",
            "+-------------------------------------------------------------------------------------------------------------------------------------------------------------------------------------------------------------------------------------------------------------------------------------------------------------------------------------------+\n",
            "only showing top 20 rows\n",
            "\n",
            "root\n",
            " |-- Ano;Trimestre;Categoria;Tipo;CNPJ IF;Instituição financeira;Índice;Quantidade de reclamações reguladas procedentes;Quantidade de reclamações reguladas - outras;Quantidade de reclamações não reguladas;Quantidade total de reclamações;Quantidade total de clientes – CCS e SCR;Quantidade de clientes – CCS;Quantidade de clientes – SCR;: string (nullable = true)\n",
            "\n"
          ]
        },
        {
          "output_type": "error",
          "ename": "AnalysisException",
          "evalue": "[UNRESOLVED_COLUMN.WITH_SUGGESTION] A column or function parameter with name `employer_name` cannot be resolved. Did you mean one of the following? [`employer_name|reviews_count|culture_count|salaries_count|benefits_count|employer-website|employer-headquarters|employer-founded|employer-industry|employer-revenue|url|Geral|Cultura e valores|Diversidade e inclusÃ£o|Qualidade de vida|Alta lideranÃ§a|RemuneraÃ§Ã£o e benefÃ­cios|Oportunidades de carreira|Recomendam para outras pessoas(%)|Perspectiva positiva da empresa(%)|Segmento|Nome|match_percent`].",
          "traceback": [
            "\u001b[0;31m---------------------------------------------------------------------------\u001b[0m",
            "\u001b[0;31mAnalysisException\u001b[0m                         Traceback (most recent call last)",
            "\u001b[0;32m<ipython-input-67-516486b17044>\u001b[0m in \u001b[0;36m<cell line: 62>\u001b[0;34m()\u001b[0m\n\u001b[1;32m     60\u001b[0m \u001b[0;31m# Merge dos DataFrames\u001b[0m\u001b[0;34m\u001b[0m\u001b[0;34m\u001b[0m\u001b[0m\n\u001b[1;32m     61\u001b[0m \u001b[0;31m# Assumindo que há colunas comuns para fazer o merge. Ajuste conforme necessário.\u001b[0m\u001b[0;34m\u001b[0m\u001b[0;34m\u001b[0m\u001b[0m\n\u001b[0;32m---> 62\u001b[0;31m \u001b[0mmerged_df\u001b[0m \u001b[0;34m=\u001b[0m \u001b[0mdf_bancos\u001b[0m\u001b[0;34m.\u001b[0m\u001b[0mjoin\u001b[0m\u001b[0;34m(\u001b[0m\u001b[0mdf_empregados\u001b[0m\u001b[0;34m,\u001b[0m \u001b[0mdf_bancos\u001b[0m\u001b[0;34m[\u001b[0m\u001b[0;34m\"Nome\"\u001b[0m\u001b[0;34m]\u001b[0m \u001b[0;34m==\u001b[0m \u001b[0mdf_empregados\u001b[0m\u001b[0;34m[\u001b[0m\u001b[0;34m\"employer_name\"\u001b[0m\u001b[0;34m]\u001b[0m\u001b[0;34m,\u001b[0m \u001b[0;34m\"left\"\u001b[0m\u001b[0;34m)\u001b[0m\u001b[0;34m\u001b[0m\u001b[0;34m\u001b[0m\u001b[0m\n\u001b[0m\u001b[1;32m     63\u001b[0m \u001b[0mmerged_df\u001b[0m \u001b[0;34m=\u001b[0m \u001b[0mmerged_df\u001b[0m\u001b[0;34m.\u001b[0m\u001b[0mjoin\u001b[0m\u001b[0;34m(\u001b[0m\u001b[0mdf_reclamacoes\u001b[0m\u001b[0;34m,\u001b[0m \u001b[0mmerged_df\u001b[0m\u001b[0;34m[\u001b[0m\u001b[0;34m\"CNPJ\"\u001b[0m\u001b[0;34m]\u001b[0m \u001b[0;34m==\u001b[0m \u001b[0mdf_reclamacoes\u001b[0m\u001b[0;34m[\u001b[0m\u001b[0;34m\"CNPJ\"\u001b[0m\u001b[0;34m]\u001b[0m\u001b[0;34m,\u001b[0m \u001b[0;34m\"left\"\u001b[0m\u001b[0;34m)\u001b[0m\u001b[0;34m\u001b[0m\u001b[0;34m\u001b[0m\u001b[0m\n\u001b[1;32m     64\u001b[0m \u001b[0;34m\u001b[0m\u001b[0m\n",
            "\u001b[0;32m/usr/local/lib/python3.10/dist-packages/pyspark/sql/dataframe.py\u001b[0m in \u001b[0;36m__getitem__\u001b[0;34m(self, item)\u001b[0m\n\u001b[1;32m   3078\u001b[0m         \"\"\"\n\u001b[1;32m   3079\u001b[0m         \u001b[0;32mif\u001b[0m \u001b[0misinstance\u001b[0m\u001b[0;34m(\u001b[0m\u001b[0mitem\u001b[0m\u001b[0;34m,\u001b[0m \u001b[0mstr\u001b[0m\u001b[0;34m)\u001b[0m\u001b[0;34m:\u001b[0m\u001b[0;34m\u001b[0m\u001b[0;34m\u001b[0m\u001b[0m\n\u001b[0;32m-> 3080\u001b[0;31m             \u001b[0mjc\u001b[0m \u001b[0;34m=\u001b[0m \u001b[0mself\u001b[0m\u001b[0;34m.\u001b[0m\u001b[0m_jdf\u001b[0m\u001b[0;34m.\u001b[0m\u001b[0mapply\u001b[0m\u001b[0;34m(\u001b[0m\u001b[0mitem\u001b[0m\u001b[0;34m)\u001b[0m\u001b[0;34m\u001b[0m\u001b[0;34m\u001b[0m\u001b[0m\n\u001b[0m\u001b[1;32m   3081\u001b[0m             \u001b[0;32mreturn\u001b[0m \u001b[0mColumn\u001b[0m\u001b[0;34m(\u001b[0m\u001b[0mjc\u001b[0m\u001b[0;34m)\u001b[0m\u001b[0;34m\u001b[0m\u001b[0;34m\u001b[0m\u001b[0m\n\u001b[1;32m   3082\u001b[0m         \u001b[0;32melif\u001b[0m \u001b[0misinstance\u001b[0m\u001b[0;34m(\u001b[0m\u001b[0mitem\u001b[0m\u001b[0;34m,\u001b[0m \u001b[0mColumn\u001b[0m\u001b[0;34m)\u001b[0m\u001b[0;34m:\u001b[0m\u001b[0;34m\u001b[0m\u001b[0;34m\u001b[0m\u001b[0m\n",
            "\u001b[0;32m/usr/local/lib/python3.10/dist-packages/py4j/java_gateway.py\u001b[0m in \u001b[0;36m__call__\u001b[0;34m(self, *args)\u001b[0m\n\u001b[1;32m   1320\u001b[0m \u001b[0;34m\u001b[0m\u001b[0m\n\u001b[1;32m   1321\u001b[0m         \u001b[0manswer\u001b[0m \u001b[0;34m=\u001b[0m \u001b[0mself\u001b[0m\u001b[0;34m.\u001b[0m\u001b[0mgateway_client\u001b[0m\u001b[0;34m.\u001b[0m\u001b[0msend_command\u001b[0m\u001b[0;34m(\u001b[0m\u001b[0mcommand\u001b[0m\u001b[0;34m)\u001b[0m\u001b[0;34m\u001b[0m\u001b[0;34m\u001b[0m\u001b[0m\n\u001b[0;32m-> 1322\u001b[0;31m         return_value = get_return_value(\n\u001b[0m\u001b[1;32m   1323\u001b[0m             answer, self.gateway_client, self.target_id, self.name)\n\u001b[1;32m   1324\u001b[0m \u001b[0;34m\u001b[0m\u001b[0m\n",
            "\u001b[0;32m/usr/local/lib/python3.10/dist-packages/pyspark/errors/exceptions/captured.py\u001b[0m in \u001b[0;36mdeco\u001b[0;34m(*a, **kw)\u001b[0m\n\u001b[1;32m    183\u001b[0m                 \u001b[0;31m# Hide where the exception came from that shows a non-Pythonic\u001b[0m\u001b[0;34m\u001b[0m\u001b[0;34m\u001b[0m\u001b[0m\n\u001b[1;32m    184\u001b[0m                 \u001b[0;31m# JVM exception message.\u001b[0m\u001b[0;34m\u001b[0m\u001b[0;34m\u001b[0m\u001b[0m\n\u001b[0;32m--> 185\u001b[0;31m                 \u001b[0;32mraise\u001b[0m \u001b[0mconverted\u001b[0m \u001b[0;32mfrom\u001b[0m \u001b[0;32mNone\u001b[0m\u001b[0;34m\u001b[0m\u001b[0;34m\u001b[0m\u001b[0m\n\u001b[0m\u001b[1;32m    186\u001b[0m             \u001b[0;32melse\u001b[0m\u001b[0;34m:\u001b[0m\u001b[0;34m\u001b[0m\u001b[0;34m\u001b[0m\u001b[0m\n\u001b[1;32m    187\u001b[0m                 \u001b[0;32mraise\u001b[0m\u001b[0;34m\u001b[0m\u001b[0;34m\u001b[0m\u001b[0m\n",
            "\u001b[0;31mAnalysisException\u001b[0m: [UNRESOLVED_COLUMN.WITH_SUGGESTION] A column or function parameter with name `employer_name` cannot be resolved. Did you mean one of the following? [`employer_name|reviews_count|culture_count|salaries_count|benefits_count|employer-website|employer-headquarters|employer-founded|employer-industry|employer-revenue|url|Geral|Cultura e valores|Diversidade e inclusÃ£o|Qualidade de vida|Alta lideranÃ§a|RemuneraÃ§Ã£o e benefÃ­cios|Oportunidades de carreira|Recomendam para outras pessoas(%)|Perspectiva positiva da empresa(%)|Segmento|Nome|match_percent`]."
          ]
        }
      ]
    },
    {
      "cell_type": "code",
      "source": [
        "import pandas as pd\n",
        "from ydata_profiling import ydata-profiling\n",
        "\n",
        "df = pd.read_csv(\"data/Train_Dataset.csv\")\n",
        "profile = ydata-profiling(df, title=\"Pandas Profiling Report\")\n",
        "profile"
      ],
      "metadata": {
        "id": "rGkjcrsr78FX"
      },
      "execution_count": null,
      "outputs": []
    },
    {
      "cell_type": "code",
      "source": [
        "def load_dataframe(file_path: str) -> DF:\n",
        "    '''\n",
        "    Carrega um arquivo CSV, selecione colunas e retorna um DataFrame.\n",
        "\n",
        "    Args:\n",
        "        file_path: O caminho do arquivo CSV a ser carregado.\n",
        "\n",
        "    Returns:\n",
        "        O DataFrame contendo os dados do arquivo\n",
        "            com colunas selecionadas conforme especificar.\n",
        "    '''\n",
        "    df = (spark.read \\\n",
        "          .options(index=False, \\\n",
        "                   inferSchema=True, \\\n",
        "                   header=True, \\\n",
        "                   delimiter=\",\") \\\n",
        "          .csv(file_path))\n",
        "    return df"
      ],
      "metadata": {
        "id": "_qr1yndCQYEi"
      },
      "execution_count": null,
      "outputs": []
    },
    {
      "cell_type": "code",
      "source": [
        "def remove_long_rows(df: DF) -> DF:\n",
        "    '''\n",
        "    Remove as linhas do DataFrame que contenham algum valor acima de 256 caracteres.\n",
        "\n",
        "    Args:\n",
        "        df: O DataFrame a ser filtrado.\n",
        "\n",
        "    Returns:\n",
        "        O DataFrame resultante após a remoção das linhas.\n",
        "    '''\n",
        "    selected_columns_list = df.columns\n",
        "    df_filtered = df\n",
        "    for column in selected_columns_list:\n",
        "        df_filtered = (\n",
        "            df_filtered.withColumn\n",
        "                (\n",
        "                column, \\\n",
        "                regexp_replace(df_filtered[column], \\\n",
        "                \"\\\\n{1,2}\", \"\") \\\n",
        "                ) \\\n",
        "            .filter(length(df_filtered[column]) <= 256)\n",
        "        )\n",
        "    return df_filtered"
      ],
      "metadata": {
        "id": "26CvWTPvSkWu"
      },
      "execution_count": null,
      "outputs": []
    },
    {
      "cell_type": "code",
      "source": [
        "def filtering_df_languages(df_filter_language: DF) -> DF:\n",
        "    '''\n",
        "    Filtra um DataFrame com base nos idiomas detectados nas duas primeiras colunas.\n",
        "\n",
        "    Args:\n",
        "        df_filter_language: DataFrame a ser filtrado.\n",
        "\n",
        "    Returns:\n",
        "        DataFrame resultante após a filtragem.\n",
        "    '''\n",
        "\n",
        "    asian_languages = ['zh', 'ja', 'ko']\n",
        "    cyrillic_languages = ['ru', 'uk', 'bg']\n",
        "    middle_east_languages = ['ar', 'fa']\n",
        "    languages_filter_list = asian_languages + cyrillic_languages + middle_east_languages\n",
        "\n",
        "    # Função para detectar o idioma do texto\n",
        "    def detect_language(texts: List[str]) -> List[str]:\n",
        "        languages = [langid.classify(text)[0] for text in texts]\n",
        "        return languages\n",
        "\n",
        "    # Função para filtrar idiomas\n",
        "    def filter_languages(languages: List[str]) -> bool:\n",
        "        return all(language not in languages_filter_list for language in languages)\n",
        "\n",
        "    detect_lang_udf = udf(detect_language, ArrayType(StringType()))\n",
        "    filter_lang_udf = udf(filter_languages, BooleanType())\n",
        "\n",
        "    # DataFrame resultante\n",
        "    filtered_df = df_filter_language\n",
        "\n",
        "    for column in df_filter_language.columns[:2]:\n",
        "        language_array = detect_lang_udf(filtered_df[column])  # Array de idiomas detectados\n",
        "        filtered_df = filtered_df.withColumn(\"languages\", language_array) \\\n",
        "            .filter(filter_lang_udf(col(\"languages\"))) \\\n",
        "            .drop(\"languages\")\n",
        "\n",
        "    return filtered_df"
      ],
      "metadata": {
        "id": "s9YueNH_We_W"
      },
      "execution_count": null,
      "outputs": []
    },
    {
      "cell_type": "code",
      "source": [
        "def save_as_clean_csv(df: DF, file_name: str, output_folder: str) -> None:\n",
        "    '''\n",
        "    Salva o DataFrame em um arquivo CSV, renomeia e move para uma pasta especificada.\n",
        "\n",
        "    Args:\n",
        "        df: O DataFrame a ser salvo.\n",
        "        file_name: O nome do arquivo CSV de saída (sem o sufixo \"_limpos.csv\").\n",
        "        output_folder: O nome da pasta de saída em que o arquivo será movido.\n",
        "\n",
        "    '''\n",
        "    csv_folder = output_folder + file_name\n",
        "    df.repartition(1) \\\n",
        "        .write \\\n",
        "        .options(header=True, single=True) \\\n",
        "        .mode('overwrite') \\\n",
        "        .csv(csv_folder)\n",
        "\n",
        "    old_file_path = glob.glob(os.path.join(csv_folder, \"*.csv\"))\n",
        "    clean_file_path = os.path.join(cleaned_path, file_name + '_limpos.csv')\n",
        "    if not os.path.exists(cleaned_path):\n",
        "        os.mkdir(cleaned_path)\n",
        "    shutil.move(old_file_path[0], clean_file_path)"
      ],
      "metadata": {
        "id": "E4l-q-yhWuYa"
      },
      "execution_count": null,
      "outputs": []
    },
    {
      "cell_type": "markdown",
      "source": [
        "---"
      ],
      "metadata": {
        "id": "5JNoqcZOSgzq"
      }
    },
    {
      "cell_type": "code",
      "source": [
        "# Função para ingestão de dados (camada RAW)\n",
        "def ingest_raw_data():\n",
        "    # Ingerir dados de reclamações\n",
        "    df_reclamacoes = spark.read.csv(f\"{base_path}/dados_originais/reclamacoes.csv\", header=True, sep=\"|\")\n",
        "    df_reclamacoes.write.mode(\"overwrite\").parquet(f\"{raw_path}/reclamacoes\")\n",
        "\n",
        "    # Ingerir dados de empregados\n",
        "    df_empregados = spark.read.csv(f\"{base_path}/dados_originais/empregados.csv\", header=True, sep=\"|\")\n",
        "    df_empregados.write.mode(\"overwrite\").parquet(f\"{raw_path}/empregados\")\n",
        "\n",
        "    # Ingerir dados de bancos\n",
        "    df_bancos = spark.read.csv(f\"{base_path}/dados_originais/bancos.csv\", header=True, sep=\"\\t\")\n",
        "    df_bancos.write.mode(\"overwrite\").parquet(f\"{raw_path}/bancos\")\n"
      ],
      "metadata": {
        "id": "jtRAyNb2yVrC"
      },
      "execution_count": null,
      "outputs": []
    },
    {
      "cell_type": "code",
      "source": [
        "# Função para transformação inicial (camada Trusted)\n",
        "def transform_to_trusted():\n",
        "    # Transformar reclamações\n",
        "    df_reclamacoes = spark.read.parquet(f\"{raw_path}/reclamacoes\")\n",
        "    df_reclamacoes_trusted = df_reclamacoes.select(\n",
        "        col(\"Ano\").alias(\"ano\"),\n",
        "        col(\"Trimestre\").alias(\"trimestre\"),\n",
        "        col(\"CNPJ IF\").alias(\"cnpj\"),\n",
        "        col(\"Instituição financeira\").alias(\"instituicao\"),\n",
        "        col(\"Quantidade total de reclamações\").cast(\"int\").alias(\"total_reclamacoes\")\n",
        "    )\n",
        "    df_reclamacoes_trusted.write.mode(\"overwrite\").parquet(f\"{trusted_path}/reclamacoes\")\n",
        "\n",
        "    # Transformar empregados\n",
        "    df_empregados = spark.read.parquet(f\"{raw_path}/empregados\")\n",
        "    df_empregados_trusted = df_empregados.select(\n",
        "        col(\"Nome\").alias(\"instituicao\"),\n",
        "        col(\"Geral\").cast(\"float\").alias(\"avaliacao_geral\"),\n",
        "        col(\"Recomendam para outras pessoas(%)\").cast(\"float\").alias(\"recomendacao\")\n",
        "    )\n",
        "    df_empregados_trusted.write.mode(\"overwrite\").parquet(f\"{trusted_path}/empregados\")\n",
        "\n",
        "    # Transformar bancos\n",
        "    df_bancos = spark.read.parquet(f\"{raw_path}/bancos\")\n",
        "    df_bancos_trusted = df_bancos.select(\n",
        "        col(\"Segmento\").alias(\"segmento\"),\n",
        "        col(\"CNPJ\").alias(\"cnpj\"),\n",
        "        col(\"Nome\").alias(\"instituicao\")\n",
        "    )\n",
        "    df_bancos_trusted.write.mode(\"overwrite\").parquet(f\"{trusted_path}/bancos\")\n"
      ],
      "metadata": {
        "id": "lxvKiy-Byd_q"
      },
      "execution_count": null,
      "outputs": []
    },
    {
      "cell_type": "code",
      "source": [
        "# Função para transformação final (camada Delivery)\n",
        "def transform_to_delivery():\n",
        "    # Aqui usaremos SQL via Spark para simular o que seria feito no DBT\n",
        "    spark.read.parquet(f\"{trusted_path}/reclamacoes\").createOrReplaceTempView(\"reclamacoes\")\n",
        "    spark.read.parquet(f\"{trusted_path}/empregados\").createOrReplaceTempView(\"empregados\")\n",
        "    spark.read.parquet(f\"{trusted_path}/bancos\").createOrReplaceTempView(\"bancos\")\n",
        "\n",
        "    df_final = spark.sql(\"\"\"\n",
        "        SELECT\n",
        "            b.segmento,\n",
        "            b.cnpj,\n",
        "            b.instituicao,\n",
        "            r.ano,\n",
        "            r.trimestre,\n",
        "            r.total_reclamacoes,\n",
        "            e.avaliacao_geral,\n",
        "            e.recomendacao\n",
        "        FROM bancos b\n",
        "        LEFT JOIN reclamacoes r ON b.cnpj = r.cnpj\n",
        "        LEFT JOIN empregados e ON b.instituicao = e.instituicao\n",
        "    \"\"\")\n",
        "\n",
        "    df_final.write.mode(\"overwrite\").parquet(f\"{delivery_path}/tabela_final\")\n"
      ],
      "metadata": {
        "id": "tbPb7J1Kylcu"
      },
      "execution_count": null,
      "outputs": []
    },
    {
      "cell_type": "code",
      "source": [
        "# Executar o pipeline\n",
        "ingest_raw_data()\n",
        "transform_to_trusted()\n",
        "transform_to_delivery()\n",
        "\n",
        "# Visualizar os resultados finais\n",
        "df_final = spark.read.parquet(f\"{delivery_path}/tabela_final\")\n",
        "df_final.show()\n",
        "\n",
        "# Parar a sessão Spark\n",
        "spark.stop()\n"
      ],
      "metadata": {
        "colab": {
          "base_uri": "https://localhost:8080/",
          "height": 425
        },
        "id": "O4CoANC3yuzQ",
        "outputId": "49c1f686-4f33-417d-db7e-b000b9959849"
      },
      "execution_count": null,
      "outputs": [
        {
          "output_type": "error",
          "ename": "AnalysisException",
          "evalue": "[PATH_NOT_FOUND] Path does not exist: file:/content/drive/MyDrive/Colab Notebooks/AtividadeETL-4/dados_originais/reclamacoes.csv.",
          "traceback": [
            "\u001b[0;31m---------------------------------------------------------------------------\u001b[0m",
            "\u001b[0;31mAnalysisException\u001b[0m                         Traceback (most recent call last)",
            "\u001b[0;32m<ipython-input-14-8bbe56c8954a>\u001b[0m in \u001b[0;36m<cell line: 2>\u001b[0;34m()\u001b[0m\n\u001b[1;32m      1\u001b[0m \u001b[0;31m# Executar o pipeline\u001b[0m\u001b[0;34m\u001b[0m\u001b[0;34m\u001b[0m\u001b[0m\n\u001b[0;32m----> 2\u001b[0;31m \u001b[0mingest_raw_data\u001b[0m\u001b[0;34m(\u001b[0m\u001b[0;34m)\u001b[0m\u001b[0;34m\u001b[0m\u001b[0;34m\u001b[0m\u001b[0m\n\u001b[0m\u001b[1;32m      3\u001b[0m \u001b[0mtransform_to_trusted\u001b[0m\u001b[0;34m(\u001b[0m\u001b[0;34m)\u001b[0m\u001b[0;34m\u001b[0m\u001b[0;34m\u001b[0m\u001b[0m\n\u001b[1;32m      4\u001b[0m \u001b[0mtransform_to_delivery\u001b[0m\u001b[0;34m(\u001b[0m\u001b[0;34m)\u001b[0m\u001b[0;34m\u001b[0m\u001b[0;34m\u001b[0m\u001b[0m\n\u001b[1;32m      5\u001b[0m \u001b[0;34m\u001b[0m\u001b[0m\n",
            "\u001b[0;32m<ipython-input-11-2d7d8e499d4d>\u001b[0m in \u001b[0;36mingest_raw_data\u001b[0;34m()\u001b[0m\n\u001b[1;32m      2\u001b[0m \u001b[0;32mdef\u001b[0m \u001b[0mingest_raw_data\u001b[0m\u001b[0;34m(\u001b[0m\u001b[0;34m)\u001b[0m\u001b[0;34m:\u001b[0m\u001b[0;34m\u001b[0m\u001b[0;34m\u001b[0m\u001b[0m\n\u001b[1;32m      3\u001b[0m     \u001b[0;31m# Ingerir dados de reclamações\u001b[0m\u001b[0;34m\u001b[0m\u001b[0;34m\u001b[0m\u001b[0m\n\u001b[0;32m----> 4\u001b[0;31m     \u001b[0mdf_reclamacoes\u001b[0m \u001b[0;34m=\u001b[0m \u001b[0mspark\u001b[0m\u001b[0;34m.\u001b[0m\u001b[0mread\u001b[0m\u001b[0;34m.\u001b[0m\u001b[0mcsv\u001b[0m\u001b[0;34m(\u001b[0m\u001b[0;34mf\"{base_path}/dados_originais/reclamacoes.csv\"\u001b[0m\u001b[0;34m,\u001b[0m \u001b[0mheader\u001b[0m\u001b[0;34m=\u001b[0m\u001b[0;32mTrue\u001b[0m\u001b[0;34m,\u001b[0m \u001b[0msep\u001b[0m\u001b[0;34m=\u001b[0m\u001b[0;34m\"|\"\u001b[0m\u001b[0;34m)\u001b[0m\u001b[0;34m\u001b[0m\u001b[0;34m\u001b[0m\u001b[0m\n\u001b[0m\u001b[1;32m      5\u001b[0m     \u001b[0mdf_reclamacoes\u001b[0m\u001b[0;34m.\u001b[0m\u001b[0mwrite\u001b[0m\u001b[0;34m.\u001b[0m\u001b[0mmode\u001b[0m\u001b[0;34m(\u001b[0m\u001b[0;34m\"overwrite\"\u001b[0m\u001b[0;34m)\u001b[0m\u001b[0;34m.\u001b[0m\u001b[0mparquet\u001b[0m\u001b[0;34m(\u001b[0m\u001b[0;34mf\"{raw_path}/reclamacoes\"\u001b[0m\u001b[0;34m)\u001b[0m\u001b[0;34m\u001b[0m\u001b[0;34m\u001b[0m\u001b[0m\n\u001b[1;32m      6\u001b[0m \u001b[0;34m\u001b[0m\u001b[0m\n",
            "\u001b[0;32m/usr/local/lib/python3.10/dist-packages/pyspark/sql/readwriter.py\u001b[0m in \u001b[0;36mcsv\u001b[0;34m(self, path, schema, sep, encoding, quote, escape, comment, header, inferSchema, ignoreLeadingWhiteSpace, ignoreTrailingWhiteSpace, nullValue, nanValue, positiveInf, negativeInf, dateFormat, timestampFormat, maxColumns, maxCharsPerColumn, maxMalformedLogPerPartition, mode, columnNameOfCorruptRecord, multiLine, charToEscapeQuoteEscaping, samplingRatio, enforceSchema, emptyValue, locale, lineSep, pathGlobFilter, recursiveFileLookup, modifiedBefore, modifiedAfter, unescapedQuoteHandling)\u001b[0m\n\u001b[1;32m    738\u001b[0m         \u001b[0;32mif\u001b[0m \u001b[0mtype\u001b[0m\u001b[0;34m(\u001b[0m\u001b[0mpath\u001b[0m\u001b[0;34m)\u001b[0m \u001b[0;34m==\u001b[0m \u001b[0mlist\u001b[0m\u001b[0;34m:\u001b[0m\u001b[0;34m\u001b[0m\u001b[0;34m\u001b[0m\u001b[0m\n\u001b[1;32m    739\u001b[0m             \u001b[0;32massert\u001b[0m \u001b[0mself\u001b[0m\u001b[0;34m.\u001b[0m\u001b[0m_spark\u001b[0m\u001b[0;34m.\u001b[0m\u001b[0m_sc\u001b[0m\u001b[0;34m.\u001b[0m\u001b[0m_jvm\u001b[0m \u001b[0;32mis\u001b[0m \u001b[0;32mnot\u001b[0m \u001b[0;32mNone\u001b[0m\u001b[0;34m\u001b[0m\u001b[0;34m\u001b[0m\u001b[0m\n\u001b[0;32m--> 740\u001b[0;31m             \u001b[0;32mreturn\u001b[0m \u001b[0mself\u001b[0m\u001b[0;34m.\u001b[0m\u001b[0m_df\u001b[0m\u001b[0;34m(\u001b[0m\u001b[0mself\u001b[0m\u001b[0;34m.\u001b[0m\u001b[0m_jreader\u001b[0m\u001b[0;34m.\u001b[0m\u001b[0mcsv\u001b[0m\u001b[0;34m(\u001b[0m\u001b[0mself\u001b[0m\u001b[0;34m.\u001b[0m\u001b[0m_spark\u001b[0m\u001b[0;34m.\u001b[0m\u001b[0m_sc\u001b[0m\u001b[0;34m.\u001b[0m\u001b[0m_jvm\u001b[0m\u001b[0;34m.\u001b[0m\u001b[0mPythonUtils\u001b[0m\u001b[0;34m.\u001b[0m\u001b[0mtoSeq\u001b[0m\u001b[0;34m(\u001b[0m\u001b[0mpath\u001b[0m\u001b[0;34m)\u001b[0m\u001b[0;34m)\u001b[0m\u001b[0;34m)\u001b[0m\u001b[0;34m\u001b[0m\u001b[0;34m\u001b[0m\u001b[0m\n\u001b[0m\u001b[1;32m    741\u001b[0m         \u001b[0;32melif\u001b[0m \u001b[0misinstance\u001b[0m\u001b[0;34m(\u001b[0m\u001b[0mpath\u001b[0m\u001b[0;34m,\u001b[0m \u001b[0mRDD\u001b[0m\u001b[0;34m)\u001b[0m\u001b[0;34m:\u001b[0m\u001b[0;34m\u001b[0m\u001b[0;34m\u001b[0m\u001b[0m\n\u001b[1;32m    742\u001b[0m \u001b[0;34m\u001b[0m\u001b[0m\n",
            "\u001b[0;32m/usr/local/lib/python3.10/dist-packages/py4j/java_gateway.py\u001b[0m in \u001b[0;36m__call__\u001b[0;34m(self, *args)\u001b[0m\n\u001b[1;32m   1320\u001b[0m \u001b[0;34m\u001b[0m\u001b[0m\n\u001b[1;32m   1321\u001b[0m         \u001b[0manswer\u001b[0m \u001b[0;34m=\u001b[0m \u001b[0mself\u001b[0m\u001b[0;34m.\u001b[0m\u001b[0mgateway_client\u001b[0m\u001b[0;34m.\u001b[0m\u001b[0msend_command\u001b[0m\u001b[0;34m(\u001b[0m\u001b[0mcommand\u001b[0m\u001b[0;34m)\u001b[0m\u001b[0;34m\u001b[0m\u001b[0;34m\u001b[0m\u001b[0m\n\u001b[0;32m-> 1322\u001b[0;31m         return_value = get_return_value(\n\u001b[0m\u001b[1;32m   1323\u001b[0m             answer, self.gateway_client, self.target_id, self.name)\n\u001b[1;32m   1324\u001b[0m \u001b[0;34m\u001b[0m\u001b[0m\n",
            "\u001b[0;32m/usr/local/lib/python3.10/dist-packages/pyspark/errors/exceptions/captured.py\u001b[0m in \u001b[0;36mdeco\u001b[0;34m(*a, **kw)\u001b[0m\n\u001b[1;32m    183\u001b[0m                 \u001b[0;31m# Hide where the exception came from that shows a non-Pythonic\u001b[0m\u001b[0;34m\u001b[0m\u001b[0;34m\u001b[0m\u001b[0m\n\u001b[1;32m    184\u001b[0m                 \u001b[0;31m# JVM exception message.\u001b[0m\u001b[0;34m\u001b[0m\u001b[0;34m\u001b[0m\u001b[0m\n\u001b[0;32m--> 185\u001b[0;31m                 \u001b[0;32mraise\u001b[0m \u001b[0mconverted\u001b[0m \u001b[0;32mfrom\u001b[0m \u001b[0;32mNone\u001b[0m\u001b[0;34m\u001b[0m\u001b[0;34m\u001b[0m\u001b[0m\n\u001b[0m\u001b[1;32m    186\u001b[0m             \u001b[0;32melse\u001b[0m\u001b[0;34m:\u001b[0m\u001b[0;34m\u001b[0m\u001b[0;34m\u001b[0m\u001b[0m\n\u001b[1;32m    187\u001b[0m                 \u001b[0;32mraise\u001b[0m\u001b[0;34m\u001b[0m\u001b[0;34m\u001b[0m\u001b[0m\n",
            "\u001b[0;31mAnalysisException\u001b[0m: [PATH_NOT_FOUND] Path does not exist: file:/content/drive/MyDrive/Colab Notebooks/AtividadeETL-4/dados_originais/reclamacoes.csv."
          ]
        }
      ]
    }
  ]
}